{
 "cells": [
  {
   "cell_type": "code",
   "id": "initial_id",
   "metadata": {
    "collapsed": true,
    "ExecuteTime": {
     "end_time": "2025-05-19T06:00:33.599065Z",
     "start_time": "2025-05-19T06:00:33.495680Z"
    }
   },
   "source": [
    "import numpy as np\n",
    "\n",
    "# Student scores: [Math, Physics, Chemistry]\n",
    "scores = np.array([\n",
    "    [85, 92, 78],\n",
    "    [76, 88, 90],\n",
    "    [90, 94, 92],\n",
    "    [69, 75, 80],\n",
    "    [88, 86, 91]\n",
    "])\n"
   ],
   "outputs": [],
   "execution_count": 1
  },
  {
   "metadata": {
    "ExecuteTime": {
     "end_time": "2025-05-19T06:02:32.956619Z",
     "start_time": "2025-05-19T06:02:32.949180Z"
    }
   },
   "cell_type": "code",
   "source": "print(f\"scores shape={scores.shape}\")",
   "id": "eaa6ded2f2b0e1ac",
   "outputs": [
    {
     "name": "stdout",
     "output_type": "stream",
     "text": [
      "scores shape=(5, 3)\n"
     ]
    }
   ],
   "execution_count": 2
  },
  {
   "metadata": {
    "ExecuteTime": {
     "end_time": "2025-05-19T06:09:23.343775Z",
     "start_time": "2025-05-19T06:09:23.339329Z"
    }
   },
   "cell_type": "code",
   "source": [
    "student_avg=np.mean(scores,axis=1)\n",
    "print(student_avg)\n",
    "\n"
   ],
   "id": "c99c0022765dff53",
   "outputs": [
    {
     "name": "stdout",
     "output_type": "stream",
     "text": [
      "[85.         84.66666667 92.         74.66666667 88.33333333]\n"
     ]
    }
   ],
   "execution_count": 4
  },
  {
   "metadata": {
    "ExecuteTime": {
     "end_time": "2025-05-19T06:10:07.622419Z",
     "start_time": "2025-05-19T06:10:07.617980Z"
    }
   },
   "cell_type": "code",
   "source": [
    "subject_avg=np.mean(scores,axis=0)\n",
    "print(subject_avg)\n",
    "\n"
   ],
   "id": "b7678e5dec217da8",
   "outputs": [
    {
     "name": "stdout",
     "output_type": "stream",
     "text": [
      "[81.6 87.  86.2]\n"
     ]
    }
   ],
   "execution_count": 5
  },
  {
   "metadata": {},
   "cell_type": "code",
   "outputs": [],
   "execution_count": null,
   "source": "",
   "id": "41345e87c98bc23e"
  }
 ],
 "metadata": {
  "kernelspec": {
   "display_name": "Python [conda env:base] *",
   "language": "python",
   "name": "conda-base-py"
  },
  "language_info": {
   "codemirror_mode": {
    "name": "ipython",
    "version": 2
   },
   "file_extension": ".py",
   "mimetype": "text/x-python",
   "name": "python",
   "nbconvert_exporter": "python",
   "pygments_lexer": "ipython2",
   "version": "2.7.6"
  }
 },
 "nbformat": 4,
 "nbformat_minor": 5
}
